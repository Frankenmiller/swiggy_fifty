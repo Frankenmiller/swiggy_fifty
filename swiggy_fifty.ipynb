{
 "cells": [
  {
   "cell_type": "markdown",
   "id": "5661d860",
   "metadata": {},
   "source": [
    "Hello my name is Malika this is my project based on DB from Kaggle. Today we'll be looking at resaurants. My three questions of this database are:\n",
    "<br/><br/>1.) Are higher ratings correlated with higher costs?\n",
    "<br/>2.) MALIKA'S Q#2\n",
    "<br/>3.) MALIKA'S Q#3\n",
    "<br/><br/>******Try writing some nice things here*** ***Try writing some nice things here*** ***Try writing some nice things here*** ***Try writing some nice things here*** ***Try writing some nice things here*** ***Try writing some nice things here*** ***Try writing some nice things here*** ***Try writing some nice things here******"
   ]
  },
  {
   "cell_type": "markdown",
   "id": "b1b37864",
   "metadata": {},
   "source": [
    "* [Section 1: Libraries and Data](#section1)\n",
    "* [Section 2: Previewing the Data](#section2)\n",
    "* [Section 3: Cleaning the Data](#section3)\n",
    "* [Section 4: Are higher ratings correlated with higher costs?](#section4)\n",
    "* [Section 5: Question #2 MALIKA'S Q HERE](#section5)\n",
    "* [Section 6: Question #3 MALIKA'S Q HERE](#section6)\n",
    "\n",
    "<a class=\"anchor\" id=\"section1\"></a>\n",
    "<h2 style=\"color: #808080; background-color:#9aa9a9; text-align:center; border: 3px solid #000000\"><span style=\"color:blue; font-weight:800\">Libraries and Data</span></h2>\n",
    "\n",
    "<br/> Let's first import all our modules and then we should load the CSV file into a new dataframe called DF"
   ]
  },
  {
   "cell_type": "code",
   "execution_count": 12,
   "id": "7359ba12",
   "metadata": {},
   "outputs": [],
   "source": [
    "import pandas as pd\n",
    "import numpy as np\n",
    "import matplotlib.pyplot as plt\n",
    "\n",
    "df = pd.read_csv('Swiggy_50.csv')"
   ]
  },
  {
   "cell_type": "markdown",
   "id": "4ab5cab9",
   "metadata": {},
   "source": [
    "<a class=\"anchor\" id=\"section2\"></a>\n",
    "<h2 style=\"color: #808080; background-color:#9aa9a9; text-align:center; border: 3px solid #000000\"><span style=\"color:blue; font-weight:800\">Previewing the Data</span></h2>\n",
    "\n",
    "<br/> Let's take look at the columns"
   ]
  },
  {
   "cell_type": "code",
   "execution_count": 13,
   "id": "0535ec8b",
   "metadata": {},
   "outputs": [
    {
     "name": "stdout",
     "output_type": "stream",
     "text": [
      "There are 10 coumns in the dataframe. Let's take look at names of those columns\n",
      "\n",
      "['Restaurant Name', 'Category', 'Rating', 'Cost for two', 'Veg', 'city', 'Area', 'Locality', 'Address', 'Long Distance Delivery']\n"
     ]
    }
   ],
   "source": [
    "col_headers = list(df.columns)\n",
    "num_of_cols = len(list(df.columns))\n",
    "print(\"There are\",num_of_cols,\"coumns in the dataframe. Let's take look at names of those columns\")\n",
    "print()\n",
    "print(col_headers)\n",
    "\n",
    "# df.shape"
   ]
  },
  {
   "cell_type": "markdown",
   "id": "08541e9c",
   "metadata": {},
   "source": [
    "<a class=\"anchor\" id=\"section3\"></a>\n",
    "<h2 style=\"color: #808080; background-color:#9aa9a9; text-align:center; border: 3px solid #000000\"><span style=\"color:blue; font-weight:800\">Cleaning the Data</span></h2>\n",
    "\n",
    "<br/> The first thing we do is drop a lot of these columns that are unrelated to my Q's. In fact I'm going drop most of the columns b/c they irritate me... the only columns I'm going keep are Restaurant Name, category, rating, cost for two, and veg columns. Additionally we're only going consider restaurants in great city of Delhi. Because of food safety concerns we will only consider restaurants with actual Ratings to compare by using .dropna() method"
   ]
  },
  {
   "cell_type": "code",
   "execution_count": 14,
   "id": "f5cb04cf",
   "metadata": {},
   "outputs": [
    {
     "name": "stdout",
     "output_type": "stream",
     "text": [
      "             Restaurant Name  \\\n",
      "0                        KFC   \n",
      "1                 McDonald's   \n",
      "2                 Haldiram's   \n",
      "3                 Chai Point   \n",
      "4  Bikanervala Chandni Chowk   \n",
      "\n",
      "                                            Category  Rating  Cost for two  \\\n",
      "0                            American,Snacks,Biryani     3.9           400   \n",
      "1                                           American     4.3           400   \n",
      "2                         Sweets,Snacks,North Indian     4.0           350   \n",
      "3  Bakery,Beverages,Maharashtrian,Snacks,Street F...     4.2           150   \n",
      "4                                 Street Food,Sweets     4.1           400   \n",
      "\n",
      "     Veg   city  \n",
      "0  False  Delhi  \n",
      "1  False  Delhi  \n",
      "2   True  Delhi  \n",
      "3  False  Delhi  \n",
      "4  False  Delhi  \n",
      "                   Restaurant Name                   Category  Rating  \\\n",
      "1401  PUNIKAR'S Mumbai Street Food               South Indian     4.6   \n",
      "1406                  Satnam Rasoi                     Indian     3.7   \n",
      "1410                  Burger House                     Indian     4.1   \n",
      "1413               THE BIRYANI INC  Biryani,Beverages,Chinese     2.8   \n",
      "1420                New Gole Hatti               North Indian     4.4   \n",
      "\n",
      "      Cost for two    Veg   city  \n",
      "1401           150  False  Delhi  \n",
      "1406           200  False  Delhi  \n",
      "1410           300  False  Delhi  \n",
      "1413           200  False  Delhi  \n",
      "1420           300   True  Delhi  \n"
     ]
    }
   ],
   "source": [
    "df = df[['Restaurant Name', 'Category', 'Rating', 'Cost for two', 'Veg', 'city']]\n",
    "df = df[df['city'] == 'Delhi'] ## narrows our focus just on restaurants in Delhi\n",
    "df = df.dropna()\n",
    "print(df.head(5))\n",
    "print(df.tail(5))"
   ]
  },
  {
   "cell_type": "markdown",
   "id": "aa033150",
   "metadata": {},
   "source": [
    "<a class=\"anchor\" id=\"section4\"></a>\n",
    "<h2 style=\"color: #808080; background-color:#9aa9a9; text-align:center; border: 3px solid #000000\"><span style=\"color:blue; font-weight:800\">Are higher ratings correlated with higher costs?</span></h2>\n",
    "\n",
    "<br/><br/> Let's use a scatter plot to see if correlation exists and towards what direction it skews"
   ]
  },
  {
   "cell_type": "code",
   "execution_count": 18,
   "id": "c83313c5",
   "metadata": {},
   "outputs": [
    {
     "data": {
      "image/png": "[encoded data removed]",
      "text/plain": [
       "<Figure size 1080x504 with 1 Axes>"
      ]
     },
     "metadata": {
      "needs_background": "dark"
     },
     "output_type": "display_data"
    }
   ],
   "source": [
    "x = np.array(df['Cost for two'])\n",
    "y = np.array(df['Rating'])\n",
    "plt.figure(figsize=(15,7))\n",
    "plt.scatter(x, y)\n",
    "plt.title(\"Is it more expensive go to nice place?\", fontweight =\"bold\", color =\"white\")\n",
    "plt.xlabel(\"Cost for Two in Rupees\", fontweight =\"bold\", color =\"white\")\n",
    "plt.ylabel(\"Rating on scale 0 to 5\", fontweight =\"bold\", color =\"white\")\n",
    "plt.xticks(fontsize= 10, color =\"white\")\n",
    "plt.yticks(fontsize= 10, color =\"white\")\n",
    "plt.show()"
   ]
  },
  {
   "cell_type": "markdown",
   "id": "7cd73a21",
   "metadata": {},
   "source": [
    "Because the y-axis on scatterplot only starts at 2.5 and for the broad absense in lower right part of scatterplot we could safely say that a correlation exists between ratings and costs "
   ]
  }
 ],
 "metadata": {
  "kernelspec": {
   "display_name": "Python 3 (ipykernel)",
   "language": "python",
   "name": "python3"
  },
  "language_info": {
   "codemirror_mode": {
    "name": "ipython",
    "version": 3
   },
   "file_extension": ".py",
   "mimetype": "text/x-python",
   "name": "python",
   "nbconvert_exporter": "python",
   "pygments_lexer": "ipython3",
   "version": "3.9.7"
  }
 },
 "nbformat": 4,
 "nbformat_minor": 5
}
