{
 "cells": [
  {
   "cell_type": "markdown",
   "id": "5661d860",
   "metadata": {},
   "source": [
    "Hello my name is Malika this is my project based on DB from Kaggle. Today we'll be looking at resaurants. My three questions of this database are:\n",
    "1.) Is there any correlation"
   ]
  },
  {
   "cell_type": "markdown",
   "id": "b1b37864",
   "metadata": {},
   "source": [
    "* [Section 1: Libraries and Data](#section1)\n",
    "* [Section 2: Previewing the Data](#section2)\n",
    "* [Section 3: Cleaning the Data](#section3)\n",
    "* [Section 4: Question #1 MALIKA'S Q HERE](#section4)\n",
    "* [Section 5: Question #2 MALIKA'S Q HERE](#section5)\n",
    "* [Section 6: Question #3 MALIKA'S Q HERE](#section6)\n",
    "\n",
    "<a class=\"anchor\" id=\"section1\"></a>\n",
    "<h2 style=\"color: #808080; background-color:#9aa9a9; text-align:center; border: 3px solid #000000\"><span style=\"color:blue; font-weight:800\">Libraries and Data</span></h2>\n",
    "\n",
    "<br/> Let's first import all our modules and then we should load the CSV file into a new dataframe called DF"
   ]
  },
  {
   "cell_type": "code",
   "execution_count": 13,
   "id": "7359ba12",
   "metadata": {},
   "outputs": [],
   "source": [
    "import pandas as pd\n",
    "import numpy as np\n",
    "import matplotlib.pyplot as plt\n",
    "\n",
    "df = pd.read_csv('Swiggy_50.csv')"
   ]
  },
  {
   "cell_type": "markdown",
   "id": "4ab5cab9",
   "metadata": {},
   "source": [
    "<a class=\"anchor\" id=\"section2\"></a>\n",
    "<h2 style=\"color: #808080; background-color:#9aa9a9; text-align:center; border: 3px solid #000000\"><span style=\"color:blue; font-weight:800\">Previewing the Data</span></h2>\n",
    "\n",
    "<br/> Let's take look at the columns"
   ]
  },
  {
   "cell_type": "code",
   "execution_count": 15,
   "id": "0535ec8b",
   "metadata": {},
   "outputs": [
    {
     "name": "stdout",
     "output_type": "stream",
     "text": [
      "There are 10 coumns in the dataframe. Let's take look at names of those columns\n",
      "\n",
      "['Restaurant Name', 'Category', 'Rating', 'Cost for two', 'Veg', 'city', 'Area', 'Locality', 'Address', 'Long Distance Delivery']\n"
     ]
    }
   ],
   "source": [
    "col_headers = list(df.columns)\n",
    "num_of_cols = len(list(df.columns))\n",
    "print(\"There are\",num_of_cols,\"coumns in the dataframe. Let's take look at names of those columns\")\n",
    "print()\n",
    "print(col_headers)\n",
    "\n",
    "# df.shape"
   ]
  },
  {
   "cell_type": "markdown",
   "id": "08541e9c",
   "metadata": {},
   "source": [
    "<a class=\"anchor\" id=\"section3\"></a>\n",
    "<h2 style=\"color: #808080; background-color:#9aa9a9; text-align:center; border: 3px solid #000000\"><span style=\"color:blue; font-weight:800\">Cleaning the Data</span></h2>\n",
    "\n",
    "<br/> Let's take look at the columns"
   ]
  }
 ],
 "metadata": {
  "kernelspec": {
   "display_name": "Python 3 (ipykernel)",
   "language": "python",
   "name": "python3"
  },
  "language_info": {
   "codemirror_mode": {
    "name": "ipython",
    "version": 3
   },
   "file_extension": ".py",
   "mimetype": "text/x-python",
   "name": "python",
   "nbconvert_exporter": "python",
   "pygments_lexer": "ipython3",
   "version": "3.9.7"
  }
 },
 "nbformat": 4,
 "nbformat_minor": 5
}
